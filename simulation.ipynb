{
 "cells": [
  {
   "cell_type": "code",
   "execution_count": 4,
   "metadata": {},
   "outputs": [],
   "source": [
    "import pygame\n",
    "from config import *\n",
    "from slider import Slider\n",
    "from bezier_curve import BezierCurve\n",
    "from ball import Ball\n",
    "\n",
    "# Constantes\n",
    "FPS = 60\n",
    "METERS_TO_PIXELS = 50\n",
    "BASE_GRAVITY = 9.8 * METERS_TO_PIXELS / 60  # Base da gravidade\n",
    "FRICTION = 0  # Valor inicial de atrito\n",
    "\n",
    "pygame.init()\n",
    "screen = pygame.display.set_mode((WIDTH, HEIGHT))\n",
    "clock = pygame.time.Clock()\n",
    "\n",
    "# Objetos do jogo\n",
    "ball = Ball(WIDTH // 2, HEIGHT // 2, radius=20, color=BLUE, mass=0.1)\n",
    "slider1 = Slider(2, HEIGHT - 60, WIDTH // 6, HEIGHT // 17, 10)  # Gravidade\n",
    "slider2 = Slider(2, HEIGHT - 120, WIDTH // 6, HEIGHT // 17, 10)  # Atrito\n",
    "control_points = [(WIDTH // 6, 200), (250, 550), (400, 100), (550, 550), (5 * WIDTH // 6, 200)]\n",
    "curve = BezierCurve(points=control_points, color=GRAY, width=5)\n",
    "\n",
    "running = True\n",
    "while running:\n",
    "    dt = 1 / FPS\n",
    "    for event in pygame.event.get():\n",
    "        if event.type == pygame.QUIT:\n",
    "            running = False\n",
    "        ball.handle_event(event)\n",
    "        slider1.handle_event(event)\n",
    "        slider2.handle_event(event)\n",
    "        curve.handle_event(event)\n",
    "\n",
    "    # Atualizações\n",
    "    slider1.update()\n",
    "    slider2.update()\n",
    "\n",
    "    gravity = slider1.get_percentage() * BASE_GRAVITY\n",
    "    friction = slider2.get_percentage() / 100  # Ajustar como fração\n",
    "\n",
    "    ball.update(curve, dt, gravity, friction)\n",
    "\n",
    "    # Desenho na tela\n",
    "    screen.fill(WHITE)\n",
    "    curve.draw(screen)\n",
    "    curve.draw_control_points(screen)\n",
    "\n",
    "    # Botão de reset\n",
    "    pygame.draw.rect(screen, GRAY, (10, 10, 100, 40), border_radius=5)\n",
    "    font = pygame.font.Font(None, 36)\n",
    "    text = font.render(\"Reset\", True, WHITE)\n",
    "    screen.blit(text, (60 - text.get_width() // 2, 30 - text.get_height() // 2))\n",
    "\n",
    "    slider1.draw(screen, \"Gravidade\")\n",
    "    slider2.draw(screen, \"Atrito\")\n",
    "    ball.draw(screen, dt)\n",
    "\n",
    "    \n",
    "    print_text(screen, f\"{slider2.get_percentage()}\", WIDTH//2, 20)\n",
    "\n",
    "    pygame.display.flip()\n",
    "    clock.tick(FPS)\n",
    "\n",
    "pygame.quit()"
   ]
  },
  {
   "cell_type": "code",
   "execution_count": 17,
   "metadata": {},
   "outputs": [
    {
     "name": "stdout",
     "output_type": "stream",
     "text": [
      "METERS_TO_PIXELS = 65.09215707911625\n"
     ]
    }
   ],
   "source": [
    "import numpy as np\n",
    "\n",
    "def calculate_meters_to_pixels(height):\n",
    "    g = 9.8  # m/s^2\n",
    "    time_seconds = 60  # Convert minutes to seconds\n",
    "    return np.sqrt((2 * height) / g)\n",
    "\n",
    "# Exemplo: Tela de 600 pixels e 3 minutos de queda\n",
    "HEIGHT = 600  # pixels\n",
    "TIME_MINUTES = 3  # minutes\n",
    "\n",
    "meters_to_pixels = calculate_meters_to_pixels(HEIGHT)/0.17\n",
    "print(f\"METERS_TO_PIXELS = {meters_to_pixels}\")"
   ]
  }
 ],
 "metadata": {
  "kernelspec": {
   "display_name": ".venv",
   "language": "python",
   "name": "python3"
  },
  "language_info": {
   "codemirror_mode": {
    "name": "ipython",
    "version": 3
   },
   "file_extension": ".py",
   "mimetype": "text/x-python",
   "name": "python",
   "nbconvert_exporter": "python",
   "pygments_lexer": "ipython3",
   "version": "3.11.9"
  }
 },
 "nbformat": 4,
 "nbformat_minor": 2
}
